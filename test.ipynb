{
 "cells": [
  {
   "cell_type": "code",
   "execution_count": 1,
   "metadata": {},
   "outputs": [],
   "source": [
    "from supertypes import *\n",
    "import math\n",
    "Sqrt = Fn(math.sqrt, name=\"Sqrt\")\n",
    "x, y, z = Meta('x'), Meta('y'), Meta('z')"
   ]
  },
  {
   "cell_type": "code",
   "execution_count": 3,
   "metadata": {},
   "outputs": [
    {
     "data": {
      "text/plain": [
       "1"
      ]
     },
     "execution_count": 3,
     "metadata": {},
     "output_type": "execute_result"
    }
   ],
   "source": [
    "Type([[7, 8, 9], {'a': 1, 'b': 2}])[0][0](1.4)"
   ]
  },
  {
   "cell_type": "code",
   "execution_count": 1,
   "metadata": {},
   "outputs": [
    {
     "name": "stdout",
     "output_type": "stream",
     "text": [
      "Checking available models against listed models\n",
      " -- 4 models available but unlisted (dall-e-2, dall-e-3, gpt-4-vision-preview, whisper-1)\n",
      " -- 3 models listed but unavailable (gpt-4-32k, gpt-4-32k-0314, gpt-4-32k-0613)\n"
     ]
    }
   ],
   "source": [
    "from gpt import *\n",
    "rx = '[a-zA-Z\\-\\(\\),\\.;: ]+'\n",
    "enc = tiktoken.get_encoding(\"cl100k_base\")\n",
    "i = 0\n",
    "tokenDict = Dict()\n",
    "while i < 100256: \n",
    "\ttokenDict[i] = enc.decode([i])\n",
    "\ti += 1\n",
    "cleanDict = tokenDict.filter(lambda k, v: re.fullmatch(rx, v) and len(v) > 3)"
   ]
  },
  {
   "cell_type": "code",
   "execution_count": 209,
   "metadata": {},
   "outputs": [],
   "source": [
    "def convert(fp): \n",
    "\tf = open(fp, \"r\").read()\n",
    "\tL = enc.encode(f)\n",
    "\tD, E = {}, {}\n",
    "\tfor k in cleanDict.keys(): \n",
    "\t\tif (c := L.count(k)) > 0 and k not in D.keys(): \n",
    "\t\t\tD[k] = c\n",
    "\t\t\tE[cleanDict[k]] = c\n",
    "\tD1 = sorted(D.items(), key=lambda x: x[1], reverse=True)\n",
    "\tD = {k: v for k, v in D1}\n",
    "\treturn D\n",
    "\n",
    "def add(*args):\n",
    "\tif len(args) > 2: \n",
    "\t\treturn add(args[0], add(*args[1:]))\n",
    "\tDa, Db = args[0], args[1]\n",
    "\tD = {}\n",
    "\ta, b = sum(Da.values()), sum(Db.values())\n",
    "\tfor k in set(list(Da.keys()) + list(Db.keys())): \n",
    "\t\tD[k] = Da.get(k, 0) / a + Db.get(k, 0) / b\n",
    "\treturn D\n",
    "\n",
    "def diff(Da, Db): \n",
    "\tD = {}\n",
    "\ta, b = sum(Da.values()), sum(Db.values())\n",
    "\tfor k in set(list(Da.keys()) + list(Db.keys())): \n",
    "\t\tD[k] = Da.get(k, 0) / a - Db.get(k, 0) / b\n",
    "\treturn D\n",
    "\n",
    "def truncate(D, w, minlen = 3, onlypos = True): \n",
    "\tD = {k: v for k, v in D.items() if len(enc.decode([k]))-enc.decode([k]).count(' ') >= minlen}\n",
    "\tif onlypos: \n",
    "\t\tD = {k: v for k, v in D.items() if v > 0}\n",
    "\tcurrentWeight = sum([abs(x) for x in D.values()])\n",
    "\tD1 = sorted(D.items(), key=lambda x: abs(x[1]), reverse=True)\n",
    "\tlogit_bias = {k: w * v / currentWeight for k, v in D1[20:320]}\n",
    "\treturn logit_bias\n",
    "\n",
    "def test(prompt, logit_bias): \n",
    "\tprint(completion(prompt, {\"logit_bias\": logit_bias, \"temperature\": 0.1}))\n",
    "\tprint('------'*10)\n",
    "\tprint(completion(prompt, {\"temperature\": 0.1}))\n",
    "\n",
    "def testChat(prompt, logit_bias): \n",
    "\tChatbot = GPT(model='gpt-4')\n",
    "\tchat = lambda content, role=\"user\", settings={}: Chatbot.run(content, settings, role=role)\n",
    "\tprint(chat(prompt, role=\"user\", settings={\"logit_bias\": logit_bias, \"temperature\": 0.1}))\n",
    "\n",
    "show = lambda x: sorted([(enc.decode([k]), v) for k, v in x.items()], key=lambda x: abs(x[1]), reverse=True)"
   ]
  },
  {
   "cell_type": "code",
   "execution_count": 199,
   "metadata": {},
   "outputs": [],
   "source": [
    "wiki = convert('./Wikipedia.html') # 11.3s\n",
    "critique1 = convert(\"../html/CPR.html\") # 2m 30.8s\n",
    "critique2 = convert(\"../html/critique2.html\") # 39.9s\n",
    "critique3 = convert(\"../html/critique3.html\") # 1m 41.1s\n",
    "thoughts = convert('../html/thoughts.html') # 1m 1.2s\n",
    "worldspace = convert(\"../html/worldspace.html\") # 39.2s\n",
    "ecm = convert(\"../html/ecm.html\") # 13.4s\n",
    "# total = 7m 5s\n",
    "kant = add(critique1, critique2, critique3)\n",
    "mar = add(thoughts, worldspace, formiri, ecm)"
   ]
  },
  {
   "cell_type": "code",
   "execution_count": 203,
   "metadata": {},
   "outputs": [],
   "source": [
    "log_probs = truncate(diff(diff(mar, kant), wiki), 2000)"
   ]
  },
  {
   "cell_type": "code",
   "execution_count": null,
   "metadata": {},
   "outputs": [],
   "source": []
  }
 ],
 "metadata": {
  "kernelspec": {
   "display_name": "Python 3 (ipykernel)",
   "language": "python",
   "name": "python3"
  },
  "language_info": {
   "codemirror_mode": {
    "name": "ipython",
    "version": 3
   },
   "file_extension": ".py",
   "mimetype": "text/x-python",
   "name": "python",
   "nbconvert_exporter": "python",
   "pygments_lexer": "ipython3",
   "version": "3.11.6"
  }
 },
 "nbformat": 4,
 "nbformat_minor": 2
}
